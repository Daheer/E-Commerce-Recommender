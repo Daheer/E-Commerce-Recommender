{
  "cells": [
    {
      "cell_type": "markdown",
      "metadata": {
        "id": "YQHfvZ63t_Cg"
      },
      "source": [
        "# PART ONE\n",
        "Using Clip Tokenizer only to get embeddings and compare"
      ]
    },
    {
      "cell_type": "code",
      "execution_count": 1,
      "metadata": {
        "id": "RBD6B23O1UjU"
      },
      "outputs": [],
      "source": [
        "import numpy as np, pandas as pd, matplotlib.pyplot as plt, torch, torch.nn as nn\n",
        "from sklearn.preprocessing import LabelEncoder\n",
        "import torch.utils.data.dataloader as DataLoader\n",
        "from fastai.collab import CollabDataLoaders\n",
        "from fastai.learner import Learner\n",
        "from tqdm import tqdm\n",
        "import os\n",
        "from fastai.losses import MSELossFlat"
      ]
    },
    {
      "cell_type": "code",
      "execution_count": 2,
      "metadata": {
        "colab": {
          "base_uri": "https://localhost:8080/"
        },
        "id": "xEMxt4lJcuHz",
        "outputId": "d7227fe3-1e8f-423e-b053-c20905ef7775"
      },
      "outputs": [
        {
          "name": "stderr",
          "output_type": "stream",
          "text": [
            "/usr/local/lib/python3.8/dist-packages/pandas/core/arraylike.py:364: RuntimeWarning: invalid value encountered in log\n",
            "  result = getattr(ufunc, method)(*inputs, **kwargs)\n"
          ]
        }
      ],
      "source": [
        "import numpy as np, pandas as pd, matplotlib.pyplot as plt, torch, torch.nn as nn\n",
        "from sklearn.preprocessing import LabelEncoder\n",
        "def sigmoid_range(x, high = 1, low = -1):\n",
        "    return (1/(1+np.exp(-torch.tensor(x).detach().numpy()))) * (high - low) + low\n",
        "l_enc = LabelEncoder()\n",
        "df = pd.read_csv('/content/drive/MyDrive/ecommerce_data.csv', encoding = 'latin-1')\n",
        "l_enc.fit(df['StockCode'])\n",
        "df['StockCode_enc'] = l_enc.transform(df['StockCode'])\n",
        "df.dropna(axis = 0, inplace = True)\n",
        "df['Rating'] = list(map(sigmoid_range, np.log(df['Quantity'])))"
      ]
    },
    {
      "cell_type": "code",
      "execution_count": 3,
      "metadata": {
        "id": "bJcYpxN_dHTp"
      },
      "outputs": [],
      "source": [
        "grouped_df = df.groupby('Description').mean().reset_index()"
      ]
    },
    {
      "cell_type": "code",
      "execution_count": 4,
      "metadata": {
        "id": "gisxuUdZyWvP"
      },
      "outputs": [],
      "source": [
        "!pip install transformers ftfy accelerate &>/dev/null\n",
        "from base64 import b64encode\n",
        "\n",
        "import numpy\n",
        "import torch\n",
        "from IPython.display import HTML\n",
        "from matplotlib import pyplot as plt\n",
        "import tqdm\n",
        "from torch import autocast\n",
        "from transformers import CLIPTextModel, CLIPTokenizer, logging\n",
        "torch.manual_seed(1)\n",
        "logging.set_verbosity_error()\n",
        "torch_device = \"cuda\" if torch.cuda.is_available() else \"cpu\"\n",
        "\n",
        "tokenizer = CLIPTokenizer.from_pretrained(\"openai/clip-vit-large-patch14\")\n",
        "text_encoder = CLIPTextModel.from_pretrained(\"openai/clip-vit-large-patch14\")"
      ]
    },
    {
      "cell_type": "code",
      "execution_count": 5,
      "metadata": {
        "id": "9-Gvs6BsnZCi"
      },
      "outputs": [],
      "source": [
        "def get_embeds(x):\n",
        "  token = tokenizer(x, padding = \"max_length\", max_length = tokenizer.model_max_length, truncation = True, return_tensors = \"pt\")\n",
        "  embed = text_encoder(token.input_ids)[0]\n",
        "  return embed"
      ]
    },
    {
      "cell_type": "code",
      "execution_count": 6,
      "metadata": {
        "id": "waM5AEKy1nJg"
      },
      "outputs": [],
      "source": [
        "def save_part_embeds(df, chunk_size = 50):\n",
        "  for i in tqdm(range((len(df) // chunk_size) + 1)):\n",
        "    if i >= (len(df) // chunk_size):\n",
        "      item_embeds = torch.cat(list(map(get_embeds, grouped_df.iloc[i * chunk_size: len(df) - 1]['Description'])))\n",
        "      torch.save(item_embeds, 'item_embeds_{}.pt'.format(i))\n",
        "      del item_embeds\n",
        "    else:\n",
        "      item_embeds = torch.cat(list(map(get_embeds, grouped_df.iloc[i * chunk_size: (i + 1) * chunk_size]['Description'])))\n",
        "      torch.save(item_embeds, 'item_embeds_{}.pt'.format(i))\n",
        "      del item_embeds"
      ]
    },
    {
      "cell_type": "code",
      "execution_count": 7,
      "metadata": {
        "id": "Nhfdo8pXT-rc"
      },
      "outputs": [],
      "source": [
        "def copy_embeds_from_drive():\n",
        "  os.system('mkdir item_embeds')\n",
        "  os.system('cp /content/drive/MyDrive/item_embeds/* item_embeds')\n",
        "copy_embeds_from_drive()"
      ]
    },
    {
      "cell_type": "code",
      "execution_count": 8,
      "metadata": {
        "id": "umOtcThVE5uc"
      },
      "outputs": [],
      "source": [
        "all_items = torch.load('item_embeds/item_embeds_0.pt')\n",
        "for i in range(1, 78):\n",
        "  all_items = torch.cat((all_items, torch.load('item_embeds/item_embeds_{}.pt'.format(i))))"
      ]
    },
    {
      "cell_type": "code",
      "execution_count": 26,
      "metadata": {
        "id": "08N-4Oh_UvtS"
      },
      "outputs": [],
      "source": [
        "def idx_to_desc(idx: int, df = df):\n",
        "  if isinstance(idx, torch.Tensor):\n",
        "    return df.iloc[idx.cpu().numpy().reshape(-1)]['Description']\n",
        "  else:\n",
        "    return df.iloc[idx]['Description']"
      ]
    },
    {
      "cell_type": "markdown",
      "metadata": {
        "id": "VbUeyEY6uafJ"
      },
      "source": [
        "# PART TWO\n",
        "Using a Neural Net to learn embeddings from scratch"
      ]
    },
    {
      "cell_type": "code",
      "execution_count": 11,
      "metadata": {
        "id": "4Wu7TXwrRGw3"
      },
      "outputs": [],
      "source": [
        "import numpy as np, pandas as pd, matplotlib.pyplot as plt, torch, torch.nn as nn\n",
        "from sklearn.preprocessing import LabelEncoder\n",
        "import torch.utils.data.dataloader as DataLoader\n",
        "from fastai.collab import CollabDataLoaders\n",
        "from fastai.learner import Learner\n",
        "from tqdm import tqdm\n",
        "import os\n",
        "from fastai.losses import MSELossFlat\n",
        "import warnings\n",
        "from fastai.vision.all import *\n",
        "warnings.filterwarnings('ignore')"
      ]
    },
    {
      "cell_type": "code",
      "execution_count": 37,
      "metadata": {
        "id": "c0uR7jY0XFER"
      },
      "outputs": [],
      "source": [
        "df = pd.read_csv('/content/drive/MyDrive/ecommerce_data.csv', encoding = 'latin-1')\n",
        "def sigmoid_range(x, high = 5.5, low = 0):\n",
        "    return (1/(1+np.exp(-torch.tensor(x).detach().numpy()))) * (high - low) + low\n",
        "l_enc = LabelEncoder()\n",
        "l_enc.fit(df['StockCode'])\n",
        "df['StockCode_enc'] = l_enc.transform(df['StockCode'])\n",
        "df.dropna(axis = 0, inplace = True)\n",
        "df = df.groupby('Description').mean().reset_index()\n",
        "l_enc.fit(df['StockCode_enc'])\n",
        "df['StockCode_enc2'] = l_enc.transform(df['StockCode_enc'])\n",
        "l_enc.fit(df['CustomerID'])\n",
        "df['CustomerID_enc'] = l_enc.transform(df['CustomerID'])\n",
        "df['Rating'] = list(map(sigmoid_range, np.log(np.abs(0.55 * df['UnitPrice'] + df['Quantity'] * 0.45))))\n",
        "df['Rating'] = np.sqrt(np.abs(5-df['Rating'])) + np.abs(0.5*np.random.randn(len(df)))"
      ]
    },
    {
      "cell_type": "code",
      "execution_count": 38,
      "metadata": {
        "id": "nldNWvc4d2-K"
      },
      "outputs": [],
      "source": [
        "class RecommenderNet(nn.Module):\n",
        "    def __init__(self, n_stock, n_customers, n_latent_factors):\n",
        "        super(RecommenderNet, self).__init__()\n",
        "        self.n_stock = n_stock\n",
        "        self.n_customers = n_customers\n",
        "        self.stock_factors = nn.Embedding(n_stock, n_latent_factors)\n",
        "        self.cust_factors = nn.Embedding(n_customers, n_latent_factors)\n",
        "        self.fc = nn.Sequential(\n",
        "            nn.Linear(4096, 1024),\n",
        "            nn.ReLU(),\n",
        "            nn.Linear(1024, 256),\n",
        "            nn.ReLU(),\n",
        "            nn.Linear(256, 64),\n",
        "            nn.ReLU(),\n",
        "            nn.Linear(64, 1)\n",
        "        )\n",
        "    def forward(self, x):\n",
        "        x = torch.tensor(x/1000, dtype = torch.long)\n",
        "        stock = self.stock_factors(x[:, 0])\n",
        "        cust = self.cust_factors(x[:, 1])\n",
        "        result_dot = ((stock * cust).sum(dim = 1, keepdim = True))\n",
        "        stock_cust = torch.cat([stock, cust], dim = 1)\n",
        "        result_nn = self.fc(stock_cust)\n",
        "        return result_dot"
      ]
    },
    {
      "cell_type": "code",
      "execution_count": 58,
      "metadata": {
        "id": "6NI5KXD1d2-M"
      },
      "outputs": [],
      "source": [
        "dls = CollabDataLoaders.from_df(df, user_name = 'CustomerID_enc', item_name = 'Description', rating_name = 'Rating', batch_size = 1024)\n",
        "n_cust = len(dls.classes['CustomerID_enc'])\n",
        "n_stock = len(dls.classes['Description'])\n",
        "model = RecommenderNet(n_stock, n_cust, 2048)\n",
        "learn = Learner(dls, model, loss_func = MSELossFlat(), metrics = mae)"
      ]
    },
    {
      "cell_type": "code",
      "execution_count": 59,
      "metadata": {
        "colab": {
          "base_uri": "https://localhost:8080/",
          "height": 300
        },
        "id": "TL_TVrt5d2-N",
        "outputId": "69aa73ae-d314-4214-8397-928010a644ba"
      },
      "outputs": [
        {
          "data": {
            "text/html": [
              "\n",
              "<style>\n",
              "    /* Turns off some styling */\n",
              "    progress {\n",
              "        /* gets rid of default border in Firefox and Opera. */\n",
              "        border: none;\n",
              "        /* Needs to be in here for Safari polyfill so background images work as expected. */\n",
              "        background-size: auto;\n",
              "    }\n",
              "    progress:not([value]), progress:not([value])::-webkit-progress-bar {\n",
              "        background: repeating-linear-gradient(45deg, #7e7e7e, #7e7e7e 10px, #5c5c5c 10px, #5c5c5c 20px);\n",
              "    }\n",
              "    .progress-bar-interrupted, .progress-bar-interrupted::-webkit-progress-bar {\n",
              "        background: #F44336;\n",
              "    }\n",
              "</style>\n"
            ],
            "text/plain": [
              "<IPython.core.display.HTML object>"
            ]
          },
          "metadata": {},
          "output_type": "display_data"
        },
        {
          "data": {
            "text/html": [],
            "text/plain": [
              "<IPython.core.display.HTML object>"
            ]
          },
          "metadata": {},
          "output_type": "display_data"
        },
        {
          "data": {
            "text/plain": [
              "SuggestedLRs(slide=6.309573450380412e-07, valley=0.001737800776027143)"
            ]
          },
          "execution_count": 59,
          "metadata": {},
          "output_type": "execute_result"
        },
        {
          "data": {
            "image/png": "[encoded data removed]",
            "text/plain": [
              "<Figure size 432x288 with 1 Axes>"
            ]
          },
          "metadata": {
            "needs_background": "light"
          },
          "output_type": "display_data"
        }
      ],
      "source": [
        "learn.lr_find(suggest_funcs = (slide, valley))"
      ]
    },
    {
      "cell_type": "code",
      "execution_count": 60,
      "metadata": {
        "colab": {
          "base_uri": "https://localhost:8080/",
          "height": 143
        },
        "id": "IY1HuI2jd2-O",
        "outputId": "ee577c4d-1290-4e58-ed7e-f06f4066a1e0"
      },
      "outputs": [
        {
          "data": {
            "text/html": [
              "\n",
              "<style>\n",
              "    /* Turns off some styling */\n",
              "    progress {\n",
              "        /* gets rid of default border in Firefox and Opera. */\n",
              "        border: none;\n",
              "        /* Needs to be in here for Safari polyfill so background images work as expected. */\n",
              "        background-size: auto;\n",
              "    }\n",
              "    progress:not([value]), progress:not([value])::-webkit-progress-bar {\n",
              "        background: repeating-linear-gradient(45deg, #7e7e7e, #7e7e7e 10px, #5c5c5c 10px, #5c5c5c 20px);\n",
              "    }\n",
              "    .progress-bar-interrupted, .progress-bar-interrupted::-webkit-progress-bar {\n",
              "        background: #F44336;\n",
              "    }\n",
              "</style>\n"
            ],
            "text/plain": [
              "<IPython.core.display.HTML object>"
            ]
          },
          "metadata": {},
          "output_type": "display_data"
        },
        {
          "data": {
            "text/html": [
              "<table border=\"1\" class=\"dataframe\">\n",
              "  <thead>\n",
              "    <tr style=\"text-align: left;\">\n",
              "      <th>epoch</th>\n",
              "      <th>train_loss</th>\n",
              "      <th>valid_loss</th>\n",
              "      <th>mae</th>\n",
              "      <th>time</th>\n",
              "    </tr>\n",
              "  </thead>\n",
              "  <tbody>\n",
              "    <tr>\n",
              "      <td>0</td>\n",
              "      <td>2407.628662</td>\n",
              "      <td>1809.198120</td>\n",
              "      <td>38.383400</td>\n",
              "      <td>00:00</td>\n",
              "    </tr>\n",
              "    <tr>\n",
              "      <td>1</td>\n",
              "      <td>1786.631958</td>\n",
              "      <td>734.924927</td>\n",
              "      <td>23.031967</td>\n",
              "      <td>00:00</td>\n",
              "    </tr>\n",
              "    <tr>\n",
              "      <td>2</td>\n",
              "      <td>1320.497192</td>\n",
              "      <td>199.912750</td>\n",
              "      <td>10.772133</td>\n",
              "      <td>00:00</td>\n",
              "    </tr>\n",
              "  </tbody>\n",
              "</table>"
            ],
            "text/plain": [
              "<IPython.core.display.HTML object>"
            ]
          },
          "metadata": {},
          "output_type": "display_data"
        }
      ],
      "source": [
        "learn.fit(3, 0.003)"
      ]
    },
    {
      "cell_type": "code",
      "execution_count": 64,
      "metadata": {
        "id": "L7iG694Ld2-P"
      },
      "outputs": [],
      "source": [
        "y = []\n",
        "for x in learn.model.parameters():\n",
        "    y.append(x)\n",
        "weights = y[1]"
      ]
    },
    {
      "cell_type": "code",
      "execution_count": 65,
      "metadata": {
        "id": "3TBAPwQjvgwx"
      },
      "outputs": [],
      "source": [
        "def search_similar_items(idx: int, kind: str, all_items = all_items, weights = weights):\n",
        "  if kind == 'clip':\n",
        "    item = get_embeds(grouped_df.iloc[idx]['Description']).to(torch_device)\n",
        "    scores = torch.einsum(\"abc,dbc->a\", all_items.to(torch_device), item)\n",
        "    return torch.argsort(scores, descending = True)[1:6]\n",
        "  elif kind == 'dot_nn':\n",
        "    item = weights[idx]\n",
        "    scores = ((weights * torch.tensor(item)).sum(dim = 1, keepdim = True)).argsort(axis = 0)[0:5]\n",
        "    return scores"
      ]
    },
    {
      "cell_type": "code",
      "execution_count": 69,
      "metadata": {
        "colab": {
          "base_uri": "https://localhost:8080/"
        },
        "id": "87m1m1GUw9rl",
        "outputId": "d3b1c35b-bb5d-4253-9b1e-1583b2b1d519"
      },
      "outputs": [
        {
          "name": "stdout",
          "output_type": "stream",
          "text": [
            " TOADSTOOL BEDSIDE LIGHT \n",
            "Recommendations using OG Embedding Layers + Feedforward Neural Network ['MINI PAINT SET VINTAGE ', 'CHILDS GARDEN TROWEL PINK', 'PINK POLKADOT KIDS BAG', 'LETTER \"W\" BLING KEY RING', 'FRENCH CHATEAU OVAL PLATTER']\n",
            "Recommendations using CLIP Tokenizer + Embeddings ['TOADSTOOL BEDSIDE LIGHT ', 'RED TOADSTOOL LED NIGHT LIGHT', 'TOADSTOOL MONEY BOX', 'FELT TOADSTOOL LARGE', 'FELT TOADSTOOL  SMALL']\n"
          ]
        }
      ],
      "source": [
        "# TESTING !!!\n",
        "sample_item_idx = 10\n",
        "print(idx_to_desc(sample_item_idx))\n",
        "print(\"Recommendations using OG Embedding Layers + Feedforward Neural Network\", list(idx_to_desc(search_similar_items(sample_item_idx, kind = 'dot_nn'))))\n",
        "print(\"Recommendations using CLIP Tokenizer + Embeddings\", list(idx_to_desc(search_similar_items(sample_item_idx, kind = 'clip'))))"
      ]
    },
    {
      "cell_type": "code",
      "execution_count": null,
      "metadata": {
        "id": "PMUyQTHN5kiG"
      },
      "outputs": [],
      "source": []
    }
  ],
  "metadata": {
    "accelerator": "GPU",
    "colab": {
      "provenance": []
    },
    "gpuClass": "standard",
    "kernelspec": {
      "display_name": "Python 3",
      "language": "python",
      "name": "python3"
    },
    "language_info": {
      "name": "python",
      "version": "3.10.8 (main, Oct 15 2022, 19:00:40)  [GCC 12.2.0 64 bit (AMD64)]"
    },
    "vscode": {
      "interpreter": {
        "hash": "2a8dfe095fce2b5e88c64a2c3ee084c8e0e0d70b23e7b95b1cfb538be294c5c8"
      }
    }
  },
  "nbformat": 4,
  "nbformat_minor": 0
}
